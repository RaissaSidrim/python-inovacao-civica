{
 "cells": [
  {
   "cell_type": "markdown",
   "source": [
    "# Exercício\n",
    "\n",
    "Construa um programa que:\n",
    " - Pergunte a usuária 2 números inteiros;\n",
    " - Crie uma lista numérica do intervalo;\n",
    " - Se o número for divisível por 3, substitua-o por \"Tecnologia\";\n",
    " - Se o número for divisível por 5, substitua-o por \"Cívica\";\n",
    " - Se o número for divisível por 3 e 5, substitua-o por \"Tecnologia Cívica\"."
   ],
   "metadata": {}
  },
  {
   "cell_type": "code",
   "execution_count": 25,
   "source": [
    "#1º ponto: perguntar a usuária 2 números inteiros\r\n",
    "numero_1 = int(input('Digite um número inteiro')) \r\n",
    "numero_2 = int(input('Digite mais um número inteiro'))\r\n",
    "\r\n",
    "#Declarei duas variáveis (numero_1 e numero_2) com números informados pelo usuário através do input.\r\n",
    "#O valor informado no \"input\" vem sempre através de string, então coloquei o \"int\" na frente dele para que já faça a conversão que garanta que o número seja realmente inteiro, não sting"
   ],
   "outputs": [],
   "metadata": {}
  },
  {
   "cell_type": "code",
   "execution_count": 26,
   "source": [
    "#2º ponto: crie uma lista numérica do intervalo entre esses dois números\r\n",
    "#criar lista usando \"range\":\r\n",
    "lista = list(range(numero_1, numero_2))\r\n",
    "#range produz um ibjeto interável, e um objeto interável não necessariamente é uma lista, por isso convertemos o produto do range em lista com o \"list\" antes dele\r\n",
    "print(lista)\r\n",
    "#a função \"range\" produz um intervalo aberto, então ele vai até um número antes do que foi digitado. Ex: se o último número fosse 100, ele daria uma lista até 99"
   ],
   "outputs": [
    {
     "output_type": "stream",
     "name": "stdout",
     "text": [
      "[2, 3, 4, 5, 6, 7, 8, 9, 10, 11, 12, 13, 14, 15]\n"
     ]
    }
   ],
   "metadata": {}
  },
  {
   "cell_type": "code",
   "execution_count": 27,
   "source": [
    "#3º ponto: se o número for divisível por 3, substitua por \"tecnologia\"\r\n",
    "#usa \"for\" pq ele percorre toda a lista, por todo o objeto interável de um por um\r\n",
    "lista_atualizada = [] #criar umma lista vazia para que os novos resultados sejam guardados nela\r\n",
    "for numero in lista:\r\n",
    "    if numero % 3 == 0 and numero % 5 == 0: #5º ponto: se o número for divisível por 3 E por 5, substituir por 'tecnologia cívica'\r\n",
    "        lista_atualizada.append('Tecnologia Cívica') \r\n",
    "#a função append insere um novo elemento no final da lista\r\n",
    "    elif numero % 5 == 0: #4º ponto: se o número for divisível por 5, substitua por \"cívica\"\r\n",
    "        lista_atualizada.append('Cívica')\r\n",
    "    elif numero % 3 == 0: #A % retorna o resto da divisão, então se ele for = 0, logicamente ele será divisível por 3\r\n",
    "        lista_atualizada.append('Tecnologia') #se o resultado da divisão de cada número da lista por 3 for 0, coloque \"Tecnologia\" na lista nova\r\n",
    "    else:\r\n",
    "        lista_atualizada.append(numero)\r\n",
    "print(lista_atualizada)\r\n"
   ],
   "outputs": [
    {
     "output_type": "stream",
     "name": "stdout",
     "text": [
      "[2, 'Tecnologia', 4, 'Cívica', 'Tecnologia', 7, 8, 'Tecnologia', 'Cívica', 11, 'Tecnologia', 13, 14, 'Tecnologia Cívica']\n"
     ]
    }
   ],
   "metadata": {}
  },
  {
   "cell_type": "code",
   "execution_count": null,
   "source": [
    "#if = se isso\r\n",
    "#elif = ou se isso\r\n",
    "#else = se não entrou em nenhuma das condições anteriores...\r\n",
    "#se eu usar 'else' nesse caso específico, todos os números que não são divisíveis por 3 ou por 5 serão substituídos por 'tecnologia cívica'. Isso pq no 'else' nós não conseguimos declarar uma condição. Então nesse caso, usaremos 'elif' mais uma  vez\r\n",
    "\r\n",
    "######### Se colocar a condição divisível por 3 e por 5 por último, ela não vai encontrar esses casos pq o python executa na ordem.\r\n",
    "#########então os divisíveis por 3 E por 5 não apareceriam pq já teria  cumprido as duas condições anteriores que é ser divisível por 3 ou po 5\r\n",
    "#lista_atualizada = [] \r\n",
    "#for numero in lista:\r\n",
    "    #if numero % 3 == 0: \r\n",
    "     #   lista_atualizada.append('Tecnologia')\r\n",
    "    #elif numero % 5 == 0:\r\n",
    "     #   lista_atualizada.append('Cívica')\r\n",
    "    #elif numero % 3 == 0 and numero % 5 == 0:\r\n",
    "     #   lista_atualizada.append('Tecnologia Cívica')\r\n",
    "    #else:\r\n",
    "     #   lista_atualizada.append(numero)\r\n",
    "#print(lista_atualizada)"
   ],
   "outputs": [],
   "metadata": {}
  }
 ],
 "metadata": {
  "kernelspec": {
   "name": "python3",
   "display_name": "Python 3.9.6 64-bit"
  },
  "language_info": {
   "codemirror_mode": {
    "name": "ipython",
    "version": 3
   },
   "file_extension": ".py",
   "mimetype": "text/x-python",
   "name": "python",
   "nbconvert_exporter": "python",
   "pygments_lexer": "ipython3",
   "version": "3.9.6"
  },
  "interpreter": {
   "hash": "a506866d17485ab4f2e96f66d576cb7a61e07b7a063c69b11324f8371d17ff6b"
  }
 },
 "nbformat": 4,
 "nbformat_minor": 5
}